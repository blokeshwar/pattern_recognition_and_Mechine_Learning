{
  "nbformat": 4,
  "nbformat_minor": 0,
  "metadata": {
    "colab": {
      "provenance": [],
      "toc_visible": true
    },
    "kernelspec": {
      "name": "python3",
      "display_name": "Python 3"
    },
    "language_info": {
      "name": "python"
    }
  },
  "cells": [
    {
      "cell_type": "code",
      "execution_count": null,
      "metadata": {
        "id": "3S8xyqD40kEO"
      },
      "outputs": [],
      "source": []
    },
    {
      "cell_type": "code",
      "source": [
        "import math\n",
        "\n",
        "H1 = [0.24, 0.2, 0.16, 0.12, 0.08, 0.04, 0.12, 0.04]\n",
        "H2 = [0.22, 0.23, 0.16, 0.13, 0.11, 0.08, 0.05, 0.02]\n",
        "\n",
        "kl_distance = 0\n",
        "for i in range(len(H1)):\n",
        "    if H1[i] != 0:\n",
        "        kl_distance += H1[i] * math.log(H1[i] / H2[i])\n",
        "\n",
        "print(\"KL Distance between H1 and H2:\", kl_distance)\n"
      ],
      "metadata": {
        "colab": {
          "base_uri": "https://localhost:8080/"
        },
        "id": "cQOR-Zyq0mDV",
        "outputId": "1ef9d1a5-4c14-4c9c-c47b-28d03e32c728"
      },
      "execution_count": 1,
      "outputs": [
        {
          "output_type": "stream",
          "name": "stdout",
          "text": [
            "KL Distance between H1 and H2: 0.06290516707464021\n"
          ]
        }
      ]
    },
    {
      "cell_type": "code",
      "source": [
        "import math\n",
        "\n",
        "H1 = [0.24, 0.20, 0.16, 0.12, 0.08, 0.04, 0.12, 0.04]\n",
        "H2 = [0.22, 0.23, 0.16, 0.13, 0.11, 0.08, 0.05, 0.02]\n",
        "\n",
        "b_distance = 0\n",
        "for i in range(len(H1)):\n",
        "    b_distance += math.sqrt(H1[i] * H2[i])\n",
        "\n",
        "b_distance = -math.log(b_distance)\n",
        "print(\"Bhattacharyya Distance between H1 and H2:\", b_distance)\n"
      ],
      "metadata": {
        "colab": {
          "base_uri": "https://localhost:8080/"
        },
        "id": "7gGYD_880qua",
        "outputId": "4e6db55a-e29e-4a74-f9aa-e16c48eaa1be"
      },
      "execution_count": 2,
      "outputs": [
        {
          "output_type": "stream",
          "name": "stdout",
          "text": [
            "Bhattacharyya Distance between H1 and H2: 0.014830056106628874\n"
          ]
        }
      ]
    }
  ]
}