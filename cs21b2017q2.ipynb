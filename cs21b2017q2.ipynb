{
  "nbformat": 4,
  "nbformat_minor": 0,
  "metadata": {
    "colab": {
      "provenance": []
    },
    "kernelspec": {
      "name": "python3",
      "display_name": "Python 3"
    },
    "language_info": {
      "name": "python"
    }
  },
  "cells": [
    {
      "cell_type": "code",
      "source": [
        "import re\n",
        "import math\n",
        "from collections import Counter\n",
        "\n",
        "# Function to tokenize and preprocess the text\n",
        "def preprocess_text(text):\n",
        "    text = text.lower()  # Convert to lowercase\n",
        "    tokens = re.findall(r'\\w+', text)  # Tokenize the text\n",
        "    return tokens\n",
        "\n",
        "# Function to calculate the cosine similarity between two vectors\n",
        "def cosine_similarity(vec1, vec2):\n",
        "    dot_product = sum(vec1[word] * vec2[word] for word in vec1 if word in vec2)\n",
        "    magnitude1 = math.sqrt(sum(vec1[word] ** 2 for word in vec1))\n",
        "    magnitude2 = math.sqrt(sum(vec2[word] ** 2 for word in vec2))\n",
        "    if magnitude1 == 0 or magnitude2 == 0:\n",
        "        return 0  # Avoid division by zero\n",
        "    return dot_product / (magnitude1 * magnitude2)\n",
        "\n",
        "# Read and preprocess the text from doc1.txt and doc2.txt\n",
        "with open('doc1.txt', 'r') as file:\n",
        "    doc1_text = file.read()\n",
        "\n",
        "with open('doc2.txt', 'r') as file:\n",
        "    doc2_text = file.read()\n",
        "\n",
        "doc1_tokens = preprocess_text(doc1_text)\n",
        "doc2_tokens = preprocess_text(doc2_text)\n",
        "\n",
        "# Calculate term frequency (TF) for each document\n",
        "doc1_tf = Counter(doc1_tokens)\n",
        "doc2_tf = Counter(doc2_tokens)\n",
        "\n",
        "# Create vectors for both documents\n",
        "doc1_vector = dict(doc1_tf)\n",
        "doc2_vector = dict(doc2_tf)\n",
        "\n",
        "# Calculate cosine similarity\n",
        "cosine_distance = 1 - cosine_similarity(doc1_vector, doc2_vector)\n",
        "\n",
        "print(\"Cosine Distance between doc1.txt and doc2.txt:\", cosine_distance)\n"
      ],
      "metadata": {
        "colab": {
          "base_uri": "https://localhost:8080/"
        },
        "id": "24iliir11TjH",
        "outputId": "19be7f0e-13e8-4abd-b8cb-7e2dda13a36b"
      },
      "execution_count": 5,
      "outputs": [
        {
          "output_type": "stream",
          "name": "stdout",
          "text": [
            "Cosine Distance between doc1.txt and doc2.txt: 0.5\n"
          ]
        }
      ]
    }
  ]
}